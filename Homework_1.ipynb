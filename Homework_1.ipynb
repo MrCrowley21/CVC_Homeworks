{
 "cells": [
  {
   "cell_type": "code",
   "execution_count": 1,
   "id": "f4fdeda4",
   "metadata": {},
   "outputs": [],
   "source": [
    "#Task 1.1\n",
    "#Taken not a leap year"
   ]
  },
  {
   "cell_type": "code",
   "execution_count": 1,
   "id": "93e6526c",
   "metadata": {},
   "outputs": [],
   "source": [
    "month31 = {1, 3, 5, 6, 7, 10, 12}\n",
    "month30 = {4, 6, 9, 11}"
   ]
  },
  {
   "cell_type": "code",
   "execution_count": 3,
   "id": "bdcc33d1",
   "metadata": {},
   "outputs": [
    {
     "name": "stdout",
     "output_type": "stream",
     "text": [
      "4\n",
      "30\n"
     ]
    }
   ],
   "source": [
    "month = int(input())\n",
    "if month in month31:\n",
    "    print(31)\n",
    "elif month in month30:\n",
    "    print(30)\n",
    "else:\n",
    "    print(28)"
   ]
  },
  {
   "cell_type": "code",
   "execution_count": 4,
   "id": "25a87e87",
   "metadata": {},
   "outputs": [],
   "source": [
    "#Task 1.2"
   ]
  },
  {
   "cell_type": "code",
   "execution_count": 15,
   "id": "f88ea93d",
   "metadata": {},
   "outputs": [
    {
     "name": "stdout",
     "output_type": "stream",
     "text": [
      "2\n",
      "1900\n"
     ]
    }
   ],
   "source": [
    "first_val = int(input())\n",
    "second_val = int(input())\n",
    "if first_val >= 1 and first_val <= 12:\n",
    "    month = first_val\n",
    "    year = second_val\n",
    "else:\n",
    "    month = second_val\n",
    "    year = first_val"
   ]
  },
  {
   "cell_type": "code",
   "execution_count": 16,
   "id": "57f19cb4",
   "metadata": {},
   "outputs": [
    {
     "name": "stdout",
     "output_type": "stream",
     "text": [
      "28\n"
     ]
    }
   ],
   "source": [
    "if month in month31:\n",
    "    print(31)\n",
    "elif month in month30:\n",
    "    print(30)\n",
    "elif year % 4 != 0 or year % 100 == 0 and year % 400 != 0:\n",
    "    print(28)\n",
    "else:\n",
    "    print(29)"
   ]
  },
  {
   "cell_type": "code",
   "execution_count": null,
   "id": "bcf11cb8",
   "metadata": {},
   "outputs": [],
   "source": []
  }
 ],
 "metadata": {
  "kernelspec": {
   "display_name": "Python 3 (ipykernel)",
   "language": "python",
   "name": "python3"
  },
  "language_info": {
   "codemirror_mode": {
    "name": "ipython",
    "version": 3
   },
   "file_extension": ".py",
   "mimetype": "text/x-python",
   "name": "python",
   "nbconvert_exporter": "python",
   "pygments_lexer": "ipython3",
   "version": "3.7.9"
  }
 },
 "nbformat": 4,
 "nbformat_minor": 5
}
