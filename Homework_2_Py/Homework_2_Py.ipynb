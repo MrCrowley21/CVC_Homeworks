{
 "cells": [
  {
   "cell_type": "code",
   "execution_count": 1,
   "id": "cd993fd8",
   "metadata": {},
   "outputs": [],
   "source": [
    "#Task 1"
   ]
  },
  {
   "cell_type": "code",
   "execution_count": 51,
   "id": "dfe5b84e",
   "metadata": {},
   "outputs": [],
   "source": [
    "class Object():\n",
    "    def __init__(self, color, texture, volume):\n",
    "        self.color = color\n",
    "        self.texture = texture\n",
    "        self.volume = volume\n",
    "        \n",
    "    def change_color(self, color):\n",
    "        self.color = color\n",
    "        print(\"New color is \", color)\n",
    "        \n",
    "    def change_texture(self, texture):\n",
    "        self.texture = texture\n",
    "        print(\"New texture is \", texture)"
   ]
  },
  {
   "cell_type": "code",
   "execution_count": 52,
   "id": "02032e3d",
   "metadata": {},
   "outputs": [],
   "source": [
    "class Cube(Object):\n",
    "    def __init__(self, color, texture, volume, side_dimension):\n",
    "        super().__init__(color, texture, volume)\n",
    "        self.side_dimension = side_dimension\n",
    "    \n",
    "    def total_area(self):\n",
    "        total_area = 6 * self.side_dimension ** 2\n",
    "        print(\"Total area of the cube is \", total_area)\n",
    "    "
   ]
  },
  {
   "cell_type": "code",
   "execution_count": 53,
   "id": "1c8e3a54",
   "metadata": {},
   "outputs": [],
   "source": [
    "class Sphere(Object):\n",
    "    def __init__(self, color, texture, volume, radius):\n",
    "        super().__init__(color, texture, volume)\n",
    "        self.radius = radius\n",
    "    \n",
    "    def surface_area(self):\n",
    "        area = 4 * 3.14 * self.radius ** 2\n",
    "        print(\"Surface area of the sphere is \", area)"
   ]
  },
  {
   "cell_type": "code",
   "execution_count": 54,
   "id": "3bf6aeb1",
   "metadata": {},
   "outputs": [
    {
     "name": "stdout",
     "output_type": "stream",
     "text": [
      "New color is  yellow\n",
      "New texture is  wood\n",
      "Total area of the cube is  24\n"
     ]
    }
   ],
   "source": [
    "cube1 = Cube(\"blue\", \"plastic\", 8, 2)\n",
    "cube1.change_color(\"yellow\")\n",
    "cube1.change_texture(\"wood\")\n",
    "cube1.total_area()"
   ]
  },
  {
   "cell_type": "code",
   "execution_count": 55,
   "id": "d3ddc056",
   "metadata": {},
   "outputs": [
    {
     "name": "stdout",
     "output_type": "stream",
     "text": [
      "New color is  red\n",
      "New texture is  plastic\n",
      "Surface area of the sphere is  50.24\n"
     ]
    }
   ],
   "source": [
    "sphere1 = Sphere(\"orange\", \"wood\", 25.12, 2)\n",
    "sphere1.change_color(\"red\")\n",
    "sphere1.change_texture(\"plastic\")\n",
    "sphere1.surface_area()"
   ]
  },
  {
   "cell_type": "code",
   "execution_count": 4,
   "id": "4e6c3c11",
   "metadata": {},
   "outputs": [],
   "source": [
    "from my_package.Cone import cone_total_area, cone_volume\n",
    "from my_package.Pyramid import pyramid_total_area, pyramid_volume"
   ]
  },
  {
   "cell_type": "code",
   "execution_count": 5,
   "id": "89924bb4",
   "metadata": {},
   "outputs": [
    {
     "name": "stdout",
     "output_type": "stream",
     "text": [
      "Total surface area of the cone is  75.36\n",
      "Volume of te cone is  12.559999999999999\n"
     ]
    }
   ],
   "source": [
    "print(\"Total surface area of the cone is \", cone_total_area(3, 4))\n",
    "print(\"Volume of te cone is \", cone_volume(3, 4))"
   ]
  },
  {
   "cell_type": "code",
   "execution_count": 6,
   "id": "c2147891",
   "metadata": {},
   "outputs": [
    {
     "name": "stdout",
     "output_type": "stream",
     "text": [
      "Total surface area of the pyramid is  25.0\n",
      "Volume of te cone is  11.666666666666666\n"
     ]
    }
   ],
   "source": [
    "print(\"Total surface area of the pyramid is \", pyramid_total_area(10, 5))\n",
    "print(\"Volume of te cone is \", pyramid_volume(5, 7))"
   ]
  },
  {
   "cell_type": "code",
   "execution_count": null,
   "id": "5f35aa88",
   "metadata": {},
   "outputs": [],
   "source": []
  }
 ],
 "metadata": {
  "kernelspec": {
   "display_name": "Python 3 (ipykernel)",
   "language": "python",
   "name": "python3"
  },
  "language_info": {
   "codemirror_mode": {
    "name": "ipython",
    "version": 3
   },
   "file_extension": ".py",
   "mimetype": "text/x-python",
   "name": "python",
   "nbconvert_exporter": "python",
   "pygments_lexer": "ipython3",
   "version": "3.9.2"
  }
 },
 "nbformat": 4,
 "nbformat_minor": 5
}
